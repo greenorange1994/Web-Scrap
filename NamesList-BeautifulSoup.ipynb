{
 "cells": [
  {
   "cell_type": "code",
   "execution_count": 23,
   "metadata": {
    "collapsed": true
   },
   "outputs": [],
   "source": [
    "import requests\n",
    "from bs4 import BeautifulSoup\n",
    "import re"
   ]
  },
  {
   "cell_type": "markdown",
   "metadata": {},
   "source": [
    "## 1 requests\n",
    "### 1. Basic exceptions in requests\n",
    "#### 1) ConnectionError\n",
    "Internet connection error, such as DNS error.\n",
    "#### 2) HTTPError\n",
    "#### 3) URLRequired\n",
    "Incomplete URL\n",
    "#### 4) TooManyRedirects\n",
    "#### 5) ConnectTimeout\n",
    "Connect to remote server timeout\n",
    "#### 6) Timeout\n",
    "### 2. Basic instruction types on resources in requests\n",
    "#### 1) get\n",
    "#### 2) put\n",
    "#### 3) post\n",
    "Update and cover resources\n",
    "#### 4) patch\n",
    "Update specific position's resources\n",
    "#### 5) delete\n",
    "#### 6) head\n",
    "Request head information\n",
    "### 3. How to get html contents?\n",
    "See codes below."
   ]
  },
  {
   "cell_type": "code",
   "execution_count": 91,
   "metadata": {
    "collapsed": false
   },
   "outputs": [
    {
     "name": "stdout",
     "output_type": "stream",
     "text": [
      "<!DOCTYPE html>\n",
      "<html lang=\"en\">\n",
      "<head>\n",
      "<meta charset=\"utf-8\">\n",
      "<meta http-equiv=\"X-UA-Compatible\n",
      "<!DOCTYPE html>\n",
      "<html lang=\"en\">\n",
      "<head>\n",
      "<meta charset=\"utf-8\">\n",
      "<meta http-equiv=\"X-UA-Compatible\n"
     ]
    }
   ],
   "source": [
    "for i in range(2):\n",
    "    ## Define URL for scraping.\n",
    "    page = i + 1\n",
    "    url = 'https://www.names4muslims.com/baby-boys.php?page=%s' % page\n",
    "    #kv = {'user-agent':'Mozilla/5.0'} #for website which inspect web scrapper\n",
    "    try:\n",
    "        r=requests.get(url, timeout = 30)\n",
    "        #r=requests.get(url, header = kv)\n",
    "        r.raise_for_status() #check if the request is successful\n",
    "        r.encoding = r.apparent_encoding\n",
    "        print(r.text[:100])\n",
    "        #r.content returns the two-digit contents like \n",
    "        #pictures or videos\n",
    "    except:\n",
    "        print(\"Fail to request!\")"
   ]
  },
  {
   "cell_type": "markdown",
   "metadata": {},
   "source": [
    "## 2 BeautifulSoup\n",
    "### 1. Basic Elements of BeautifulSoup Class\n",
    "#### 1) Tag\n",
    "**html**: whole document  \n",
    "**body**: document body  \n",
    "**title**: page name  \n",
    "**a**: hyperbolic link  \n",
    "**p**: paragraph  \n",
    "**h1**: heading  \n",
    "**br**: Empty HTML elements\n",
    "#### 2) Name\n",
    "tag.name: p\n",
    "#### 3) Attributes\n",
    "tag.attrs\n",
    "#### 4) NavigableString\n",
    "<>...</> tag.string\n",
    "#### 5) Comment\n",
    "Begin as '!'"
   ]
  },
  {
   "cell_type": "code",
   "execution_count": 58,
   "metadata": {
    "collapsed": false
   },
   "outputs": [
    {
     "name": "stdout",
     "output_type": "stream",
     "text": [
      "p\n",
      "None\n",
      "None\n",
      "A Good and Beautiful Name is the Greatest Gifts You can Give Your Children.\n"
     ]
    },
    {
     "data": {
      "text/plain": [
       "bs4.element.NavigableString"
      ]
     },
     "execution_count": 58,
     "metadata": {},
     "output_type": "execute_result"
    }
   ],
   "source": [
    "bs = BeautifulSoup(r.text, 'html.parser')\n",
    "print(bs.p.name)\n",
    "print(bs.p.attributes)\n",
    "print(bs.p.comment)\n",
    "print(bs.p.string)\n",
    "type(bs.p.string)"
   ]
  },
  {
   "cell_type": "markdown",
   "metadata": {},
   "source": [
    "### 2. Traversal of BeautifulSoup\n",
    "The structure of html is like a tree, so there are three ways of traversing html, top-down, bottom-up and level-order. Just to mention, you can only use level-order traversal under same parent.\n",
    "#### 1) top-down\n",
    ".contents: return a list of all sons  \n",
    ".children: return an iterator of all sons  \n",
    ".descendants: return an iterator of all descendants\n",
    "#### 2) bottom-up\n",
    ".parent: return nearest parent  \n",
    ".parents: return an iterator of all parents\n",
    "#### 3) level-order\n",
    ".next-sibling: return next sibling  \n",
    ".previous_sibling: return previous sibling  \n",
    ".next_siblings: return an itertor of all next siblings  \n",
    ".previous_siblings: return an iterator of all previous siblings"
   ]
  },
  {
   "cell_type": "code",
   "execution_count": 70,
   "metadata": {
    "collapsed": false
   },
   "outputs": [
    {
     "name": "stdout",
     "output_type": "stream",
     "text": [
      "['A Good and Beautiful Name is the Greatest Gifts You can Give Your Children.']\n",
      "div\n"
     ]
    }
   ],
   "source": [
    "print(bs.p.contents)\n",
    "print(bs.p.parent.name)"
   ]
  },
  {
   "cell_type": "code",
   "execution_count": 68,
   "metadata": {
    "collapsed": false
   },
   "outputs": [
    {
     "name": "stdout",
     "output_type": "stream",
     "text": [
      "div\n",
      "div\n",
      "div\n",
      "body\n",
      "html\n",
      "[document]\n"
     ]
    }
   ],
   "source": [
    "for parent in bs.p.parents:\n",
    "    if parent is None:\n",
    "        print(parent)\n",
    "    else:\n",
    "        print(parent.name)"
   ]
  },
  {
   "cell_type": "markdown",
   "metadata": {},
   "source": [
    "### 3 Example of Web Scrapper\n",
    "#### 1) Analyze the structure of html using BeautifulSoup and requests"
   ]
  },
  {
   "cell_type": "code",
   "execution_count": 19,
   "metadata": {
    "collapsed": false
   },
   "outputs": [],
   "source": [
    "def getHTMLText(url):\n",
    "    try:\n",
    "        r = requests.get(url, timeout = 30)\n",
    "        r.raise_for_status()\n",
    "        r.encoding = r.apparent_encoding\n",
    "        return r.text\n",
    "    except:\n",
    "        return \"\"\n",
    "\n",
    "def parsePage(ilt, html):\n",
    "    bs = BeautifulSoup(html, 'html.parser')\n",
    "    for td in bs.body.table.find_all('td'):\n",
    "        try:\n",
    "            if td.attrs['data-title'] == 'Name':\n",
    "                ilt.append(td.string)\n",
    "        except:\n",
    "            continue\n",
    "    \n",
    "def saveNamesList(ilt):\n",
    "    with open('GirlNamesList.txt', 'w') as f:\n",
    "        f.write(str(ilt))\n",
    "    f.closed\n",
    "\n",
    "def main():\n",
    "    page = 75\n",
    "    infoList = []\n",
    "    for i in range(page):\n",
    "        try:\n",
    "            url = 'https://www.names4muslims.com/baby-girls.php?page=' + str(i+1)\n",
    "            html = getHTMLText(url)\n",
    "            parsePage(infoList, html)\n",
    "        except:\n",
    "            continue\n",
    "    saveNamesList(infoList)\n",
    "\n",
    "if __name__ == \"__main__\":\n",
    "    main()"
   ]
  },
  {
   "cell_type": "markdown",
   "metadata": {
    "collapsed": false
   },
   "source": [
    "#### 2) Extract names using regular expressions and requests"
   ]
  },
  {
   "cell_type": "code",
   "execution_count": 58,
   "metadata": {
    "collapsed": false
   },
   "outputs": [],
   "source": [
    "def getHTMLText(url):\n",
    "    try:\n",
    "        r = requests.get(url, timeout = 30)\n",
    "        r.raise_for_status()\n",
    "        r.encoding = r.apparent_encoding\n",
    "        return r.text\n",
    "    except:\n",
    "        return \"\"\n",
    "    \n",
    "def parsePage(ilt, html):\n",
    "    try:\n",
    "        ilt.append(re.findall(r'\\\"Muslim Boy Name\\: ([A-Za-z\\-\\' ]+)\\\"', html))\n",
    "    except:\n",
    "        ilt = ilt\n",
    "    \n",
    "def saveNamesList(ilt):\n",
    "    with open('BoyNamesList.txt', 'w') as f:\n",
    "        f.write(str(ilt))\n",
    "    f.closed\n",
    "\n",
    "def main():\n",
    "    page = 75\n",
    "    infoList = []\n",
    "    for i in range(page):\n",
    "        try:\n",
    "            url = 'https://www.names4muslims.com/baby-boys.php?page=' + str(i+1)\n",
    "            html = getHTMLText(url)\n",
    "            parsePage(infoList, html)\n",
    "        except:\n",
    "            continue\n",
    "    saveNamesList(infoList)\n",
    "\n",
    "if __name__ == \"__main__\":\n",
    "    main()"
   ]
  }
 ],
 "metadata": {
  "anaconda-cloud": {},
  "kernelspec": {
   "display_name": "Python [conda root]",
   "language": "python",
   "name": "conda-root-py"
  },
  "language_info": {
   "codemirror_mode": {
    "name": "ipython",
    "version": 3
   },
   "file_extension": ".py",
   "mimetype": "text/x-python",
   "name": "python",
   "nbconvert_exporter": "python",
   "pygments_lexer": "ipython3",
   "version": "3.5.2"
  }
 },
 "nbformat": 4,
 "nbformat_minor": 1
}
